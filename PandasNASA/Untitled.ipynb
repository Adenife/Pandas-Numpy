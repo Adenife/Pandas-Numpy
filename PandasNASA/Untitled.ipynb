{
 "cells": [
  {
   "cell_type": "code",
   "execution_count": 1,
   "metadata": {},
   "outputs": [
    {
     "data": {
      "text/plain": [
       "7"
      ]
     },
     "execution_count": 1,
     "metadata": {},
     "output_type": "execute_result"
    }
   ],
   "source": [
    "5+2"
   ]
  },
  {
   "cell_type": "code",
   "execution_count": 2,
   "metadata": {},
   "outputs": [
    {
     "name": "stdout",
     "output_type": "stream",
     "text": [
      "Hello world!\n"
     ]
    }
   ],
   "source": [
    "print('Hello world!')"
   ]
  },
  {
   "cell_type": "markdown",
   "metadata": {},
   "source": [
    "## Imtroduction to Numpy"
   ]
  },
  {
   "cell_type": "code",
   "execution_count": 4,
   "metadata": {},
   "outputs": [],
   "source": [
    "import numpy as np"
   ]
  },
  {
   "cell_type": "code",
   "execution_count": 5,
   "metadata": {},
   "outputs": [],
   "source": [
    "a = [1,2,3,4,5]\n",
    "array = np.array(a)"
   ]
  },
  {
   "cell_type": "code",
   "execution_count": 6,
   "metadata": {},
   "outputs": [
    {
     "data": {
      "text/plain": [
       "array([1, 2, 3, 4, 5])"
      ]
     },
     "execution_count": 6,
     "metadata": {},
     "output_type": "execute_result"
    }
   ],
   "source": [
    "array"
   ]
  },
  {
   "cell_type": "code",
   "execution_count": 7,
   "metadata": {},
   "outputs": [
    {
     "data": {
      "text/plain": [
       "list"
      ]
     },
     "execution_count": 7,
     "metadata": {},
     "output_type": "execute_result"
    }
   ],
   "source": [
    "type(a)"
   ]
  },
  {
   "cell_type": "code",
   "execution_count": 8,
   "metadata": {},
   "outputs": [
    {
     "data": {
      "text/plain": [
       "numpy.ndarray"
      ]
     },
     "execution_count": 8,
     "metadata": {},
     "output_type": "execute_result"
    }
   ],
   "source": [
    "type(array)"
   ]
  },
  {
   "cell_type": "code",
   "execution_count": 10,
   "metadata": {},
   "outputs": [
    {
     "data": {
      "text/plain": [
       "array([[1, 2, 3],\n",
       "       [4, 5, 6],\n",
       "       [7, 8, 9]])"
      ]
     },
     "execution_count": 10,
     "metadata": {},
     "output_type": "execute_result"
    }
   ],
   "source": [
    "b = np.array([[1,2,3], [4,5,6], [7,8,9]])\n",
    "b"
   ]
  },
  {
   "cell_type": "code",
   "execution_count": 11,
   "metadata": {},
   "outputs": [
    {
     "data": {
      "text/plain": [
       "(3, 3)"
      ]
     },
     "execution_count": 11,
     "metadata": {},
     "output_type": "execute_result"
    }
   ],
   "source": [
    "b.shape"
   ]
  },
  {
   "cell_type": "code",
   "execution_count": 12,
   "metadata": {},
   "outputs": [
    {
     "data": {
      "text/plain": [
       "array([0., 0., 0., 0., 0., 0., 0., 0.])"
      ]
     },
     "execution_count": 12,
     "metadata": {},
     "output_type": "execute_result"
    }
   ],
   "source": [
    "np.zeros(8)"
   ]
  },
  {
   "cell_type": "code",
   "execution_count": 15,
   "metadata": {},
   "outputs": [
    {
     "data": {
      "text/plain": [
       "array([[0., 0.],\n",
       "       [0., 0.],\n",
       "       [0., 0.],\n",
       "       [0., 0.],\n",
       "       [0., 0.],\n",
       "       [0., 0.],\n",
       "       [0., 0.],\n",
       "       [0., 0.]])"
      ]
     },
     "execution_count": 15,
     "metadata": {},
     "output_type": "execute_result"
    }
   ],
   "source": [
    "np.zeros((8,2))"
   ]
  },
  {
   "cell_type": "code",
   "execution_count": 16,
   "metadata": {},
   "outputs": [
    {
     "data": {
      "text/plain": [
       "array([[[0., 0., 0.],\n",
       "        [0., 0., 0.],\n",
       "        [0., 0., 0.],\n",
       "        [0., 0., 0.]],\n",
       "\n",
       "       [[0., 0., 0.],\n",
       "        [0., 0., 0.],\n",
       "        [0., 0., 0.],\n",
       "        [0., 0., 0.]]])"
      ]
     },
     "execution_count": 16,
     "metadata": {},
     "output_type": "execute_result"
    }
   ],
   "source": [
    "np.zeros((2,4,3))"
   ]
  },
  {
   "cell_type": "code",
   "execution_count": 17,
   "metadata": {},
   "outputs": [
    {
     "data": {
      "text/plain": [
       "array([1., 1., 1., 1., 1., 1., 1., 1.])"
      ]
     },
     "execution_count": 17,
     "metadata": {},
     "output_type": "execute_result"
    }
   ],
   "source": [
    "np.ones(8)"
   ]
  },
  {
   "cell_type": "code",
   "execution_count": 20,
   "metadata": {},
   "outputs": [
    {
     "data": {
      "text/plain": [
       "array([[6.23042070e-307, 3.56043053e-307],\n",
       "       [1.60219306e-306, 7.56571288e-307],\n",
       "       [1.89146896e-307, 1.37961302e-306],\n",
       "       [1.05699242e-307, 8.01097889e-307],\n",
       "       [8.45596650e-307, 1.69121367e-306]])"
      ]
     },
     "execution_count": 20,
     "metadata": {},
     "output_type": "execute_result"
    }
   ],
   "source": [
    "np.empty((5,2))"
   ]
  },
  {
   "cell_type": "code",
   "execution_count": 22,
   "metadata": {},
   "outputs": [
    {
     "data": {
      "text/plain": [
       "array([ 0,  2,  4,  6,  8, 10, 12, 14, 16, 18])"
      ]
     },
     "execution_count": 22,
     "metadata": {},
     "output_type": "execute_result"
    }
   ],
   "source": [
    "np.arange(0,20,2)"
   ]
  },
  {
   "cell_type": "code",
   "execution_count": 23,
   "metadata": {},
   "outputs": [
    {
     "data": {
      "text/plain": [
       "array([ 1,  3,  5,  7,  9, 11, 13, 15, 17, 19])"
      ]
     },
     "execution_count": 23,
     "metadata": {},
     "output_type": "execute_result"
    }
   ],
   "source": [
    "np.arange(1,20,2)"
   ]
  },
  {
   "cell_type": "code",
   "execution_count": 24,
   "metadata": {},
   "outputs": [
    {
     "data": {
      "text/plain": [
       "array([[2, 2],\n",
       "       [2, 2],\n",
       "       [2, 2]])"
      ]
     },
     "execution_count": 24,
     "metadata": {},
     "output_type": "execute_result"
    }
   ],
   "source": [
    "np.full((3,2), 2)"
   ]
  },
  {
   "cell_type": "code",
   "execution_count": 25,
   "metadata": {},
   "outputs": [
    {
     "data": {
      "text/plain": [
       "array([[1., 0., 0., 0., 0.],\n",
       "       [0., 1., 0., 0., 0.],\n",
       "       [0., 0., 1., 0., 0.],\n",
       "       [0., 0., 0., 1., 0.],\n",
       "       [0., 0., 0., 0., 1.]])"
      ]
     },
     "execution_count": 25,
     "metadata": {},
     "output_type": "execute_result"
    }
   ],
   "source": [
    "np.eye(5,5)"
   ]
  },
  {
   "cell_type": "code",
   "execution_count": 27,
   "metadata": {},
   "outputs": [],
   "source": [
    "arrayElement = np.random.random((20,15))"
   ]
  },
  {
   "cell_type": "code",
   "execution_count": 28,
   "metadata": {},
   "outputs": [
    {
     "data": {
      "text/plain": [
       "0.03397764121228719"
      ]
     },
     "execution_count": 28,
     "metadata": {},
     "output_type": "execute_result"
    }
   ],
   "source": [
    "arrayElement[1,2]"
   ]
  },
  {
   "cell_type": "code",
   "execution_count": 30,
   "metadata": {},
   "outputs": [
    {
     "data": {
      "text/plain": [
       "array([[1, 2, 3],\n",
       "       [4, 5, 6],\n",
       "       [7, 8, 9]])"
      ]
     },
     "execution_count": 30,
     "metadata": {},
     "output_type": "execute_result"
    }
   ],
   "source": [
    "b"
   ]
  },
  {
   "cell_type": "code",
   "execution_count": 31,
   "metadata": {},
   "outputs": [
    {
     "data": {
      "text/plain": [
       "6"
      ]
     },
     "execution_count": 31,
     "metadata": {},
     "output_type": "execute_result"
    }
   ],
   "source": [
    "b[1,2]"
   ]
  },
  {
   "cell_type": "code",
   "execution_count": 33,
   "metadata": {},
   "outputs": [
    {
     "data": {
      "text/plain": [
       "array([4, 5, 6])"
      ]
     },
     "execution_count": 33,
     "metadata": {},
     "output_type": "execute_result"
    }
   ],
   "source": [
    "b[1, :]"
   ]
  },
  {
   "cell_type": "code",
   "execution_count": 43,
   "metadata": {},
   "outputs": [],
   "source": [
    "import math as m"
   ]
  },
  {
   "cell_type": "code",
   "execution_count": 44,
   "metadata": {},
   "outputs": [
    {
     "data": {
      "text/plain": [
       "array([0. , 0.2, 0.4, 0.6, 0.8, 1. ])"
      ]
     },
     "execution_count": 44,
     "metadata": {},
     "output_type": "execute_result"
    }
   ],
   "source": [
    "np.linspace(0,1,6)"
   ]
  },
  {
   "cell_type": "code",
   "execution_count": 45,
   "metadata": {},
   "outputs": [],
   "source": [
    "x = np.linspace(0, 5*m.pi, 64)"
   ]
  },
  {
   "cell_type": "code",
   "execution_count": 46,
   "metadata": {},
   "outputs": [
    {
     "data": {
      "text/plain": [
       "array([ 0.        ,  0.24933275,  0.4986655 ,  0.74799825,  0.997331  ,\n",
       "        1.24666375,  1.4959965 ,  1.74532925,  1.994662  ,  2.24399475,\n",
       "        2.4933275 ,  2.74266025,  2.991993  ,  3.24132575,  3.4906585 ,\n",
       "        3.73999125,  3.989324  ,  4.23865675,  4.48798951,  4.73732226,\n",
       "        4.98665501,  5.23598776,  5.48532051,  5.73465326,  5.98398601,\n",
       "        6.23331876,  6.48265151,  6.73198426,  6.98131701,  7.23064976,\n",
       "        7.47998251,  7.72931526,  7.97864801,  8.22798076,  8.47731351,\n",
       "        8.72664626,  8.97597901,  9.22531176,  9.47464451,  9.72397726,\n",
       "        9.97331001, 10.22264276, 10.47197551, 10.72130826, 10.97064101,\n",
       "       11.21997376, 11.46930651, 11.71863926, 11.96797201, 12.21730476,\n",
       "       12.46663751, 12.71597026, 12.96530301, 13.21463577, 13.46396852,\n",
       "       13.71330127, 13.96263402, 14.21196677, 14.46129952, 14.71063227,\n",
       "       14.95996502, 15.20929777, 15.45863052, 15.70796327])"
      ]
     },
     "execution_count": 46,
     "metadata": {},
     "output_type": "execute_result"
    }
   ],
   "source": [
    "x"
   ]
  },
  {
   "cell_type": "code",
   "execution_count": 47,
   "metadata": {},
   "outputs": [
    {
     "data": {
      "text/plain": [
       "64"
      ]
     },
     "execution_count": 47,
     "metadata": {},
     "output_type": "execute_result"
    }
   ],
   "source": [
    "len(x)"
   ]
  },
  {
   "cell_type": "code",
   "execution_count": 48,
   "metadata": {},
   "outputs": [
    {
     "data": {
      "text/plain": [
       "array([ 0.00000000e+00,  2.46757398e-01,  4.78253979e-01,  6.80172738e-01,\n",
       "        8.40025923e-01,  9.47927346e-01,  9.97203797e-01,  9.84807753e-01,\n",
       "        9.11505852e-01,  7.81831482e-01,  6.03804410e-01,  3.88434796e-01,\n",
       "        1.49042266e-01, -9.95678466e-02, -3.42020143e-01, -5.63320058e-01,\n",
       "       -7.49781203e-01, -8.89871809e-01, -9.74927912e-01, -9.99689182e-01,\n",
       "       -9.62624247e-01, -8.66025404e-01, -7.15866849e-01, -5.21435203e-01,\n",
       "       -2.94755174e-01, -4.98458857e-02,  1.98146143e-01,  4.33883739e-01,\n",
       "        6.42787610e-01,  8.11938006e-01,  9.30873749e-01,  9.92239207e-01,\n",
       "        9.92239207e-01,  9.30873749e-01,  8.11938006e-01,  6.42787610e-01,\n",
       "        4.33883739e-01,  1.98146143e-01, -4.98458857e-02, -2.94755174e-01,\n",
       "       -5.21435203e-01, -7.15866849e-01, -8.66025404e-01, -9.62624247e-01,\n",
       "       -9.99689182e-01, -9.74927912e-01, -8.89871809e-01, -7.49781203e-01,\n",
       "       -5.63320058e-01, -3.42020143e-01, -9.95678466e-02,  1.49042266e-01,\n",
       "        3.88434796e-01,  6.03804410e-01,  7.81831482e-01,  9.11505852e-01,\n",
       "        9.84807753e-01,  9.97203797e-01,  9.47927346e-01,  8.40025923e-01,\n",
       "        6.80172738e-01,  4.78253979e-01,  2.46757398e-01,  6.12323400e-16])"
      ]
     },
     "execution_count": 48,
     "metadata": {},
     "output_type": "execute_result"
    }
   ],
   "source": [
    "sinx = np.sin(x)\n",
    "sinx"
   ]
  },
  {
   "cell_type": "code",
   "execution_count": 49,
   "metadata": {},
   "outputs": [],
   "source": [
    "import matplotlib.pyplot as plt\n",
    "%matplotlib inline"
   ]
  },
  {
   "cell_type": "code",
   "execution_count": 50,
   "metadata": {},
   "outputs": [
    {
     "data": {
      "text/plain": [
       "[<matplotlib.lines.Line2D at 0x18b26eaa308>]"
      ]
     },
     "execution_count": 50,
     "metadata": {},
     "output_type": "execute_result"
    },
    {
     "data": {
      "image/png": "[encoded data removed]",
      "text/plain": [
       "<Figure size 432x288 with 1 Axes>"
      ]
     },
     "metadata": {
      "needs_background": "light"
     },
     "output_type": "display_data"
    }
   ],
   "source": [
    "plt.plot(x, sinx)"
   ]
  },
  {
   "cell_type": "code",
   "execution_count": 54,
   "metadata": {},
   "outputs": [
    {
     "data": {
      "text/plain": [
       "<matplotlib.legend.Legend at 0x18b278b2d48>"
      ]
     },
     "execution_count": 54,
     "metadata": {},
     "output_type": "execute_result"
    },
    {
     "data": {
      "image/png": "[encoded data removed]",
      "text/plain": [
       "<Figure size 432x288 with 1 Axes>"
      ]
     },
     "metadata": {
      "needs_background": "light"
     },
     "output_type": "display_data"
    }
   ],
   "source": [
    "plt.plot(x, sinx, label='sinx')\n",
    "plt.plot(x, np.cos(x), label='cosx')\n",
    "\n",
    "plt.legend()"
   ]
  },
  {
   "cell_type": "code",
   "execution_count": 58,
   "metadata": {},
   "outputs": [
    {
     "data": {
      "text/plain": [
       "4.605912227716838"
      ]
     },
     "execution_count": 58,
     "metadata": {},
     "output_type": "execute_result"
    }
   ],
   "source": [
    "np.std(x)"
   ]
  },
  {
   "cell_type": "markdown",
   "metadata": {},
   "source": [
    "## Broadcasting with numpy arrays"
   ]
  },
  {
   "cell_type": "code",
   "execution_count": 60,
   "metadata": {},
   "outputs": [
    {
     "data": {
      "text/plain": [
       "array([ 0.00000000e+00,  2.46757398e-01,  4.78253979e-01,  6.80172738e-01,\n",
       "        8.40025923e-01,  9.47927346e-01,  9.97203797e-01,  9.84807753e-01,\n",
       "        9.11505852e-01,  7.81831482e-01,  6.03804410e-01,  3.88434796e-01,\n",
       "        1.49042266e-01, -9.95678466e-02, -3.42020143e-01, -5.63320058e-01,\n",
       "       -7.49781203e-01, -8.89871809e-01, -9.74927912e-01, -9.99689182e-01,\n",
       "       -9.62624247e-01, -8.66025404e-01, -7.15866849e-01, -5.21435203e-01,\n",
       "       -2.94755174e-01, -4.98458857e-02,  1.98146143e-01,  4.33883739e-01,\n",
       "        6.42787610e-01,  8.11938006e-01,  9.30873749e-01,  9.92239207e-01,\n",
       "        9.92239207e-01,  9.30873749e-01,  8.11938006e-01,  6.42787610e-01,\n",
       "        4.33883739e-01,  1.98146143e-01, -4.98458857e-02, -2.94755174e-01,\n",
       "       -5.21435203e-01, -7.15866849e-01, -8.66025404e-01, -9.62624247e-01,\n",
       "       -9.99689182e-01, -9.74927912e-01, -8.89871809e-01, -7.49781203e-01,\n",
       "       -5.63320058e-01, -3.42020143e-01, -9.95678466e-02,  1.49042266e-01,\n",
       "        3.88434796e-01,  6.03804410e-01,  7.81831482e-01,  9.11505852e-01,\n",
       "        9.84807753e-01,  9.97203797e-01,  9.47927346e-01,  8.40025923e-01,\n",
       "        6.80172738e-01,  4.78253979e-01,  2.46757398e-01,  6.12323400e-16])"
      ]
     },
     "execution_count": 60,
     "metadata": {},
     "output_type": "execute_result"
    }
   ],
   "source": [
    "sinx"
   ]
  },
  {
   "cell_type": "code",
   "execution_count": 61,
   "metadata": {},
   "outputs": [
    {
     "data": {
      "text/plain": [
       "array([5.        , 5.2467574 , 5.47825398, 5.68017274, 5.84002592,\n",
       "       5.94792735, 5.9972038 , 5.98480775, 5.91150585, 5.78183148,\n",
       "       5.60380441, 5.3884348 , 5.14904227, 4.90043215, 4.65797986,\n",
       "       4.43667994, 4.2502188 , 4.11012819, 4.02507209, 4.00031082,\n",
       "       4.03737575, 4.1339746 , 4.28413315, 4.4785648 , 4.70524483,\n",
       "       4.95015411, 5.19814614, 5.43388374, 5.64278761, 5.81193801,\n",
       "       5.93087375, 5.99223921, 5.99223921, 5.93087375, 5.81193801,\n",
       "       5.64278761, 5.43388374, 5.19814614, 4.95015411, 4.70524483,\n",
       "       4.4785648 , 4.28413315, 4.1339746 , 4.03737575, 4.00031082,\n",
       "       4.02507209, 4.11012819, 4.2502188 , 4.43667994, 4.65797986,\n",
       "       4.90043215, 5.14904227, 5.3884348 , 5.60380441, 5.78183148,\n",
       "       5.91150585, 5.98480775, 5.9972038 , 5.94792735, 5.84002592,\n",
       "       5.68017274, 5.47825398, 5.2467574 , 5.        ])"
      ]
     },
     "execution_count": 61,
     "metadata": {},
     "output_type": "execute_result"
    }
   ],
   "source": [
    "sinx + 5"
   ]
  },
  {
   "cell_type": "code",
   "execution_count": 64,
   "metadata": {},
   "outputs": [
    {
     "data": {
      "text/plain": [
       "54"
      ]
     },
     "execution_count": 64,
     "metadata": {},
     "output_type": "execute_result"
    }
   ],
   "source": [
    "len(sinx[10:])"
   ]
  },
  {
   "cell_type": "code",
   "execution_count": 66,
   "metadata": {},
   "outputs": [
    {
     "data": {
      "text/plain": [
       "<matplotlib.legend.Legend at 0x18b2795e788>"
      ]
     },
     "execution_count": 66,
     "metadata": {},
     "output_type": "execute_result"
    },
    {
     "data": {
      "image/png": "[encoded data removed]",
      "text/plain": [
       "<Figure size 432x288 with 1 Axes>"
      ]
     },
     "metadata": {
      "needs_background": "light"
     },
     "output_type": "display_data"
    }
   ],
   "source": [
    "sinx_broadcasted = sinx+5\n",
    "\n",
    "plt.plot(x, sinx, label='sinx')\n",
    "plt.plot(x, sinx_broadcasted, label='sinx_broadcasted')\n",
    "plt.legend()"
   ]
  },
  {
   "cell_type": "code",
   "execution_count": 67,
   "metadata": {},
   "outputs": [
    {
     "data": {
      "text/plain": [
       "array([[0.42200065, 0.83059662, 0.16566104, 0.92743356, 0.22894263],\n",
       "       [0.76189881, 0.39816213, 0.80022138, 0.47010805, 0.607753  ],\n",
       "       [0.39770332, 0.96550814, 0.64395156, 0.4542175 , 0.1534451 ],\n",
       "       [0.23907327, 0.24085838, 0.44954216, 0.25814219, 0.71820455],\n",
       "       [0.1719115 , 0.60534546, 0.56582178, 0.33131629, 0.0161909 ],\n",
       "       [0.76195345, 0.63674191, 0.74953732, 0.84559673, 0.41551546],\n",
       "       [0.83188524, 0.70857459, 0.89516844, 0.22227509, 0.80831598],\n",
       "       [0.21592407, 0.71733819, 0.19387506, 0.4109398 , 0.26638282],\n",
       "       [0.90160899, 0.82520426, 0.4357975 , 0.20289686, 0.05179192],\n",
       "       [0.65096795, 0.31376484, 0.87493417, 0.33391144, 0.46191228]])"
      ]
     },
     "execution_count": 67,
     "metadata": {},
     "output_type": "execute_result"
    }
   ],
   "source": [
    "new_array = np.random.random((10,5))\n",
    "new_array"
   ]
  },
  {
   "cell_type": "code",
   "execution_count": 75,
   "metadata": {},
   "outputs": [
    {
     "data": {
      "text/plain": [
       "(10, 1)"
      ]
     },
     "execution_count": 75,
     "metadata": {},
     "output_type": "execute_result"
    }
   ],
   "source": [
    "xbroad = np.linspace(0,1,10)\n",
    "ybroad = xbroad[:, np.newaxis]\n",
    "\n",
    "ybroad.shape"
   ]
  },
  {
   "cell_type": "code",
   "execution_count": 77,
   "metadata": {},
   "outputs": [
    {
     "data": {
      "text/plain": [
       "array([[0.        ],\n",
       "       [0.11111111],\n",
       "       [0.22222222],\n",
       "       [0.33333333],\n",
       "       [0.44444444],\n",
       "       [0.55555556],\n",
       "       [0.66666667],\n",
       "       [0.77777778],\n",
       "       [0.88888889],\n",
       "       [1.        ]])"
      ]
     },
     "execution_count": 77,
     "metadata": {},
     "output_type": "execute_result"
    }
   ],
   "source": [
    "ybroad"
   ]
  },
  {
   "cell_type": "code",
   "execution_count": 76,
   "metadata": {},
   "outputs": [
    {
     "data": {
      "text/plain": [
       "array([[0.42200065, 0.83059662, 0.16566104, 0.92743356, 0.22894263],\n",
       "       [0.87300992, 0.50927324, 0.91133249, 0.58121916, 0.71886411],\n",
       "       [0.61992554, 1.18773037, 0.86617378, 0.67643973, 0.37566732],\n",
       "       [0.5724066 , 0.57419171, 0.78287549, 0.59147552, 1.05153788],\n",
       "       [0.61635594, 1.0497899 , 1.01026622, 0.77576074, 0.46063535],\n",
       "       [1.31750901, 1.19229747, 1.30509288, 1.40115228, 0.97107102],\n",
       "       [1.4985519 , 1.37524126, 1.56183511, 0.88894176, 1.47498265],\n",
       "       [0.99370185, 1.49511597, 0.97165284, 1.18871757, 1.0441606 ],\n",
       "       [1.79049788, 1.71409315, 1.32468639, 1.09178574, 0.94068081],\n",
       "       [1.65096795, 1.31376484, 1.87493417, 1.33391144, 1.46191228]])"
      ]
     },
     "execution_count": 76,
     "metadata": {},
     "output_type": "execute_result"
    }
   ],
   "source": [
    "broad_array = new_array + ybroad\n",
    "broad_array"
   ]
  },
  {
   "cell_type": "code",
   "execution_count": 78,
   "metadata": {},
   "outputs": [],
   "source": [
    "import pandas as pd"
   ]
  },
  {
   "cell_type": "code",
   "execution_count": 81,
   "metadata": {},
   "outputs": [
    {
     "data": {
      "text/html": [
       "<div>\n",
       "<style scoped>\n",
       "    .dataframe tbody tr th:only-of-type {\n",
       "        vertical-align: middle;\n",
       "    }\n",
       "\n",
       "    .dataframe tbody tr th {\n",
       "        vertical-align: top;\n",
       "    }\n",
       "\n",
       "    .dataframe thead th {\n",
       "        text-align: right;\n",
       "    }\n",
       "</style>\n",
       "<table border=\"1\" class=\"dataframe\">\n",
       "  <thead>\n",
       "    <tr style=\"text-align: right;\">\n",
       "      <th></th>\n",
       "      <th>age</th>\n",
       "      <th>weight</th>\n",
       "      <th>height</th>\n",
       "    </tr>\n",
       "  </thead>\n",
       "  <tbody>\n",
       "    <tr>\n",
       "      <th>0</th>\n",
       "      <td>1</td>\n",
       "      <td>5</td>\n",
       "      <td>7</td>\n",
       "    </tr>\n",
       "    <tr>\n",
       "      <th>1</th>\n",
       "      <td>2</td>\n",
       "      <td>8</td>\n",
       "      <td>6</td>\n",
       "    </tr>\n",
       "    <tr>\n",
       "      <th>2</th>\n",
       "      <td>3</td>\n",
       "      <td>2</td>\n",
       "      <td>1</td>\n",
       "    </tr>\n",
       "  </tbody>\n",
       "</table>\n",
       "</div>"
      ],
      "text/plain": [
       "   age  weight  height\n",
       "0    1       5       7\n",
       "1    2       8       6\n",
       "2    3       2       1"
      ]
     },
     "execution_count": 81,
     "metadata": {},
     "output_type": "execute_result"
    }
   ],
   "source": [
    "df = pd.DataFrame([[1,5,7], [2,8,6], [3,2,1]], columns=['age', 'weight', 'height'])\n",
    "df"
   ]
  },
  {
   "cell_type": "code",
   "execution_count": null,
   "metadata": {},
   "outputs": [],
   "source": []
  }
 ],
 "metadata": {
  "kernelspec": {
   "display_name": "Python 3",
   "language": "python",
   "name": "python3"
  },
  "language_info": {
   "codemirror_mode": {
    "name": "ipython",
    "version": 3
   },
   "file_extension": ".py",
   "mimetype": "text/x-python",
   "name": "python",
   "nbconvert_exporter": "python",
   "pygments_lexer": "ipython3",
   "version": "3.7.6"
  }
 },
 "nbformat": 4,
 "nbformat_minor": 4
}
