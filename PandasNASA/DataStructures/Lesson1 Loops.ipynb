{
 "cells": [
  {
   "cell_type": "code",
   "execution_count": 1,
   "metadata": {},
   "outputs": [],
   "source": [
    "import math\n",
    "import collections\n",
    "\n",
    "import numpy as np\n",
    "import pandas as pd\n",
    "import matplotlib.pyplot as plt\n",
    "\n",
    "%matplotlib inline"
   ]
  },
  {
   "cell_type": "code",
   "execution_count": 2,
   "metadata": {},
   "outputs": [
    {
     "name": "stdout",
     "output_type": "stream",
     "text": [
      "0\n",
      "1\n",
      "2\n",
      "3\n",
      "4\n",
      "5\n",
      "6\n"
     ]
    }
   ],
   "source": [
    "for i in range(0,7):\n",
    "    print(i)"
   ]
  },
  {
   "cell_type": "code",
   "execution_count": 3,
   "metadata": {},
   "outputs": [
    {
     "name": "stdout",
     "output_type": "stream",
     "text": [
      "0\n",
      "1\n",
      "2\n",
      "3\n"
     ]
    }
   ],
   "source": [
    "for i in range(4):\n",
    "    print(i)"
   ]
  },
  {
   "cell_type": "code",
   "execution_count": 4,
   "metadata": {},
   "outputs": [
    {
     "name": "stdout",
     "output_type": "stream",
     "text": [
      "0\n",
      "2\n",
      "4\n",
      "6\n",
      "8\n"
     ]
    }
   ],
   "source": [
    "for i in range(0, 10, 2):\n",
    "    print(i)"
   ]
  },
  {
   "cell_type": "code",
   "execution_count": 5,
   "metadata": {},
   "outputs": [],
   "source": [
    "combinations = []\n",
    "\n",
    "for count_100 in range(1+1):\n",
    "    for count_50 in range(2+1):\n",
    "        for count_25 in range(4+1):\n",
    "            for count_10 in range(10+1):\n",
    "                for count_5 in range(20+1):\n",
    "                    for count_1 in range(100+1):\n",
    "                        if 100*count_100 + 50*count_50 + 25*count_25 + 10*count_10 + 5*count_5 + count_1 == 100:\n",
    "                            combinations.append([count_100, count_50, count_25, count_10, count_5, count_1])"
   ]
  },
  {
   "cell_type": "code",
   "execution_count": 6,
   "metadata": {},
   "outputs": [
    {
     "data": {
      "text/plain": [
       "[[0, 0, 0, 0, 0, 100],\n",
       " [0, 0, 0, 0, 1, 95],\n",
       " [0, 0, 0, 0, 2, 90],\n",
       " [0, 0, 0, 0, 3, 85],\n",
       " [0, 0, 0, 0, 4, 80],\n",
       " [0, 0, 0, 0, 5, 75],\n",
       " [0, 0, 0, 0, 6, 70],\n",
       " [0, 0, 0, 0, 7, 65],\n",
       " [0, 0, 0, 0, 8, 60],\n",
       " [0, 0, 0, 0, 9, 55],\n",
       " [0, 0, 0, 0, 10, 50],\n",
       " [0, 0, 0, 0, 11, 45],\n",
       " [0, 0, 0, 0, 12, 40],\n",
       " [0, 0, 0, 0, 13, 35],\n",
       " [0, 0, 0, 0, 14, 30],\n",
       " [0, 0, 0, 0, 15, 25],\n",
       " [0, 0, 0, 0, 16, 20],\n",
       " [0, 0, 0, 0, 17, 15],\n",
       " [0, 0, 0, 0, 18, 10],\n",
       " [0, 0, 0, 0, 19, 5],\n",
       " [0, 0, 0, 0, 20, 0],\n",
       " [0, 0, 0, 1, 0, 90],\n",
       " [0, 0, 0, 1, 1, 85],\n",
       " [0, 0, 0, 1, 2, 80],\n",
       " [0, 0, 0, 1, 3, 75],\n",
       " [0, 0, 0, 1, 4, 70],\n",
       " [0, 0, 0, 1, 5, 65],\n",
       " [0, 0, 0, 1, 6, 60],\n",
       " [0, 0, 0, 1, 7, 55],\n",
       " [0, 0, 0, 1, 8, 50],\n",
       " [0, 0, 0, 1, 9, 45],\n",
       " [0, 0, 0, 1, 10, 40],\n",
       " [0, 0, 0, 1, 11, 35],\n",
       " [0, 0, 0, 1, 12, 30],\n",
       " [0, 0, 0, 1, 13, 25],\n",
       " [0, 0, 0, 1, 14, 20],\n",
       " [0, 0, 0, 1, 15, 15],\n",
       " [0, 0, 0, 1, 16, 10],\n",
       " [0, 0, 0, 1, 17, 5],\n",
       " [0, 0, 0, 1, 18, 0],\n",
       " [0, 0, 0, 2, 0, 80],\n",
       " [0, 0, 0, 2, 1, 75],\n",
       " [0, 0, 0, 2, 2, 70],\n",
       " [0, 0, 0, 2, 3, 65],\n",
       " [0, 0, 0, 2, 4, 60],\n",
       " [0, 0, 0, 2, 5, 55],\n",
       " [0, 0, 0, 2, 6, 50],\n",
       " [0, 0, 0, 2, 7, 45],\n",
       " [0, 0, 0, 2, 8, 40],\n",
       " [0, 0, 0, 2, 9, 35],\n",
       " [0, 0, 0, 2, 10, 30],\n",
       " [0, 0, 0, 2, 11, 25],\n",
       " [0, 0, 0, 2, 12, 20],\n",
       " [0, 0, 0, 2, 13, 15],\n",
       " [0, 0, 0, 2, 14, 10],\n",
       " [0, 0, 0, 2, 15, 5],\n",
       " [0, 0, 0, 2, 16, 0],\n",
       " [0, 0, 0, 3, 0, 70],\n",
       " [0, 0, 0, 3, 1, 65],\n",
       " [0, 0, 0, 3, 2, 60],\n",
       " [0, 0, 0, 3, 3, 55],\n",
       " [0, 0, 0, 3, 4, 50],\n",
       " [0, 0, 0, 3, 5, 45],\n",
       " [0, 0, 0, 3, 6, 40],\n",
       " [0, 0, 0, 3, 7, 35],\n",
       " [0, 0, 0, 3, 8, 30],\n",
       " [0, 0, 0, 3, 9, 25],\n",
       " [0, 0, 0, 3, 10, 20],\n",
       " [0, 0, 0, 3, 11, 15],\n",
       " [0, 0, 0, 3, 12, 10],\n",
       " [0, 0, 0, 3, 13, 5],\n",
       " [0, 0, 0, 3, 14, 0],\n",
       " [0, 0, 0, 4, 0, 60],\n",
       " [0, 0, 0, 4, 1, 55],\n",
       " [0, 0, 0, 4, 2, 50],\n",
       " [0, 0, 0, 4, 3, 45],\n",
       " [0, 0, 0, 4, 4, 40],\n",
       " [0, 0, 0, 4, 5, 35],\n",
       " [0, 0, 0, 4, 6, 30],\n",
       " [0, 0, 0, 4, 7, 25],\n",
       " [0, 0, 0, 4, 8, 20],\n",
       " [0, 0, 0, 4, 9, 15],\n",
       " [0, 0, 0, 4, 10, 10],\n",
       " [0, 0, 0, 4, 11, 5],\n",
       " [0, 0, 0, 4, 12, 0],\n",
       " [0, 0, 0, 5, 0, 50],\n",
       " [0, 0, 0, 5, 1, 45],\n",
       " [0, 0, 0, 5, 2, 40],\n",
       " [0, 0, 0, 5, 3, 35],\n",
       " [0, 0, 0, 5, 4, 30],\n",
       " [0, 0, 0, 5, 5, 25],\n",
       " [0, 0, 0, 5, 6, 20],\n",
       " [0, 0, 0, 5, 7, 15],\n",
       " [0, 0, 0, 5, 8, 10],\n",
       " [0, 0, 0, 5, 9, 5],\n",
       " [0, 0, 0, 5, 10, 0],\n",
       " [0, 0, 0, 6, 0, 40],\n",
       " [0, 0, 0, 6, 1, 35],\n",
       " [0, 0, 0, 6, 2, 30],\n",
       " [0, 0, 0, 6, 3, 25],\n",
       " [0, 0, 0, 6, 4, 20],\n",
       " [0, 0, 0, 6, 5, 15],\n",
       " [0, 0, 0, 6, 6, 10],\n",
       " [0, 0, 0, 6, 7, 5],\n",
       " [0, 0, 0, 6, 8, 0],\n",
       " [0, 0, 0, 7, 0, 30],\n",
       " [0, 0, 0, 7, 1, 25],\n",
       " [0, 0, 0, 7, 2, 20],\n",
       " [0, 0, 0, 7, 3, 15],\n",
       " [0, 0, 0, 7, 4, 10],\n",
       " [0, 0, 0, 7, 5, 5],\n",
       " [0, 0, 0, 7, 6, 0],\n",
       " [0, 0, 0, 8, 0, 20],\n",
       " [0, 0, 0, 8, 1, 15],\n",
       " [0, 0, 0, 8, 2, 10],\n",
       " [0, 0, 0, 8, 3, 5],\n",
       " [0, 0, 0, 8, 4, 0],\n",
       " [0, 0, 0, 9, 0, 10],\n",
       " [0, 0, 0, 9, 1, 5],\n",
       " [0, 0, 0, 9, 2, 0],\n",
       " [0, 0, 0, 10, 0, 0],\n",
       " [0, 0, 1, 0, 0, 75],\n",
       " [0, 0, 1, 0, 1, 70],\n",
       " [0, 0, 1, 0, 2, 65],\n",
       " [0, 0, 1, 0, 3, 60],\n",
       " [0, 0, 1, 0, 4, 55],\n",
       " [0, 0, 1, 0, 5, 50],\n",
       " [0, 0, 1, 0, 6, 45],\n",
       " [0, 0, 1, 0, 7, 40],\n",
       " [0, 0, 1, 0, 8, 35],\n",
       " [0, 0, 1, 0, 9, 30],\n",
       " [0, 0, 1, 0, 10, 25],\n",
       " [0, 0, 1, 0, 11, 20],\n",
       " [0, 0, 1, 0, 12, 15],\n",
       " [0, 0, 1, 0, 13, 10],\n",
       " [0, 0, 1, 0, 14, 5],\n",
       " [0, 0, 1, 0, 15, 0],\n",
       " [0, 0, 1, 1, 0, 65],\n",
       " [0, 0, 1, 1, 1, 60],\n",
       " [0, 0, 1, 1, 2, 55],\n",
       " [0, 0, 1, 1, 3, 50],\n",
       " [0, 0, 1, 1, 4, 45],\n",
       " [0, 0, 1, 1, 5, 40],\n",
       " [0, 0, 1, 1, 6, 35],\n",
       " [0, 0, 1, 1, 7, 30],\n",
       " [0, 0, 1, 1, 8, 25],\n",
       " [0, 0, 1, 1, 9, 20],\n",
       " [0, 0, 1, 1, 10, 15],\n",
       " [0, 0, 1, 1, 11, 10],\n",
       " [0, 0, 1, 1, 12, 5],\n",
       " [0, 0, 1, 1, 13, 0],\n",
       " [0, 0, 1, 2, 0, 55],\n",
       " [0, 0, 1, 2, 1, 50],\n",
       " [0, 0, 1, 2, 2, 45],\n",
       " [0, 0, 1, 2, 3, 40],\n",
       " [0, 0, 1, 2, 4, 35],\n",
       " [0, 0, 1, 2, 5, 30],\n",
       " [0, 0, 1, 2, 6, 25],\n",
       " [0, 0, 1, 2, 7, 20],\n",
       " [0, 0, 1, 2, 8, 15],\n",
       " [0, 0, 1, 2, 9, 10],\n",
       " [0, 0, 1, 2, 10, 5],\n",
       " [0, 0, 1, 2, 11, 0],\n",
       " [0, 0, 1, 3, 0, 45],\n",
       " [0, 0, 1, 3, 1, 40],\n",
       " [0, 0, 1, 3, 2, 35],\n",
       " [0, 0, 1, 3, 3, 30],\n",
       " [0, 0, 1, 3, 4, 25],\n",
       " [0, 0, 1, 3, 5, 20],\n",
       " [0, 0, 1, 3, 6, 15],\n",
       " [0, 0, 1, 3, 7, 10],\n",
       " [0, 0, 1, 3, 8, 5],\n",
       " [0, 0, 1, 3, 9, 0],\n",
       " [0, 0, 1, 4, 0, 35],\n",
       " [0, 0, 1, 4, 1, 30],\n",
       " [0, 0, 1, 4, 2, 25],\n",
       " [0, 0, 1, 4, 3, 20],\n",
       " [0, 0, 1, 4, 4, 15],\n",
       " [0, 0, 1, 4, 5, 10],\n",
       " [0, 0, 1, 4, 6, 5],\n",
       " [0, 0, 1, 4, 7, 0],\n",
       " [0, 0, 1, 5, 0, 25],\n",
       " [0, 0, 1, 5, 1, 20],\n",
       " [0, 0, 1, 5, 2, 15],\n",
       " [0, 0, 1, 5, 3, 10],\n",
       " [0, 0, 1, 5, 4, 5],\n",
       " [0, 0, 1, 5, 5, 0],\n",
       " [0, 0, 1, 6, 0, 15],\n",
       " [0, 0, 1, 6, 1, 10],\n",
       " [0, 0, 1, 6, 2, 5],\n",
       " [0, 0, 1, 6, 3, 0],\n",
       " [0, 0, 1, 7, 0, 5],\n",
       " [0, 0, 1, 7, 1, 0],\n",
       " [0, 0, 2, 0, 0, 50],\n",
       " [0, 0, 2, 0, 1, 45],\n",
       " [0, 0, 2, 0, 2, 40],\n",
       " [0, 0, 2, 0, 3, 35],\n",
       " [0, 0, 2, 0, 4, 30],\n",
       " [0, 0, 2, 0, 5, 25],\n",
       " [0, 0, 2, 0, 6, 20],\n",
       " [0, 0, 2, 0, 7, 15],\n",
       " [0, 0, 2, 0, 8, 10],\n",
       " [0, 0, 2, 0, 9, 5],\n",
       " [0, 0, 2, 0, 10, 0],\n",
       " [0, 0, 2, 1, 0, 40],\n",
       " [0, 0, 2, 1, 1, 35],\n",
       " [0, 0, 2, 1, 2, 30],\n",
       " [0, 0, 2, 1, 3, 25],\n",
       " [0, 0, 2, 1, 4, 20],\n",
       " [0, 0, 2, 1, 5, 15],\n",
       " [0, 0, 2, 1, 6, 10],\n",
       " [0, 0, 2, 1, 7, 5],\n",
       " [0, 0, 2, 1, 8, 0],\n",
       " [0, 0, 2, 2, 0, 30],\n",
       " [0, 0, 2, 2, 1, 25],\n",
       " [0, 0, 2, 2, 2, 20],\n",
       " [0, 0, 2, 2, 3, 15],\n",
       " [0, 0, 2, 2, 4, 10],\n",
       " [0, 0, 2, 2, 5, 5],\n",
       " [0, 0, 2, 2, 6, 0],\n",
       " [0, 0, 2, 3, 0, 20],\n",
       " [0, 0, 2, 3, 1, 15],\n",
       " [0, 0, 2, 3, 2, 10],\n",
       " [0, 0, 2, 3, 3, 5],\n",
       " [0, 0, 2, 3, 4, 0],\n",
       " [0, 0, 2, 4, 0, 10],\n",
       " [0, 0, 2, 4, 1, 5],\n",
       " [0, 0, 2, 4, 2, 0],\n",
       " [0, 0, 2, 5, 0, 0],\n",
       " [0, 0, 3, 0, 0, 25],\n",
       " [0, 0, 3, 0, 1, 20],\n",
       " [0, 0, 3, 0, 2, 15],\n",
       " [0, 0, 3, 0, 3, 10],\n",
       " [0, 0, 3, 0, 4, 5],\n",
       " [0, 0, 3, 0, 5, 0],\n",
       " [0, 0, 3, 1, 0, 15],\n",
       " [0, 0, 3, 1, 1, 10],\n",
       " [0, 0, 3, 1, 2, 5],\n",
       " [0, 0, 3, 1, 3, 0],\n",
       " [0, 0, 3, 2, 0, 5],\n",
       " [0, 0, 3, 2, 1, 0],\n",
       " [0, 0, 4, 0, 0, 0],\n",
       " [0, 1, 0, 0, 0, 50],\n",
       " [0, 1, 0, 0, 1, 45],\n",
       " [0, 1, 0, 0, 2, 40],\n",
       " [0, 1, 0, 0, 3, 35],\n",
       " [0, 1, 0, 0, 4, 30],\n",
       " [0, 1, 0, 0, 5, 25],\n",
       " [0, 1, 0, 0, 6, 20],\n",
       " [0, 1, 0, 0, 7, 15],\n",
       " [0, 1, 0, 0, 8, 10],\n",
       " [0, 1, 0, 0, 9, 5],\n",
       " [0, 1, 0, 0, 10, 0],\n",
       " [0, 1, 0, 1, 0, 40],\n",
       " [0, 1, 0, 1, 1, 35],\n",
       " [0, 1, 0, 1, 2, 30],\n",
       " [0, 1, 0, 1, 3, 25],\n",
       " [0, 1, 0, 1, 4, 20],\n",
       " [0, 1, 0, 1, 5, 15],\n",
       " [0, 1, 0, 1, 6, 10],\n",
       " [0, 1, 0, 1, 7, 5],\n",
       " [0, 1, 0, 1, 8, 0],\n",
       " [0, 1, 0, 2, 0, 30],\n",
       " [0, 1, 0, 2, 1, 25],\n",
       " [0, 1, 0, 2, 2, 20],\n",
       " [0, 1, 0, 2, 3, 15],\n",
       " [0, 1, 0, 2, 4, 10],\n",
       " [0, 1, 0, 2, 5, 5],\n",
       " [0, 1, 0, 2, 6, 0],\n",
       " [0, 1, 0, 3, 0, 20],\n",
       " [0, 1, 0, 3, 1, 15],\n",
       " [0, 1, 0, 3, 2, 10],\n",
       " [0, 1, 0, 3, 3, 5],\n",
       " [0, 1, 0, 3, 4, 0],\n",
       " [0, 1, 0, 4, 0, 10],\n",
       " [0, 1, 0, 4, 1, 5],\n",
       " [0, 1, 0, 4, 2, 0],\n",
       " [0, 1, 0, 5, 0, 0],\n",
       " [0, 1, 1, 0, 0, 25],\n",
       " [0, 1, 1, 0, 1, 20],\n",
       " [0, 1, 1, 0, 2, 15],\n",
       " [0, 1, 1, 0, 3, 10],\n",
       " [0, 1, 1, 0, 4, 5],\n",
       " [0, 1, 1, 0, 5, 0],\n",
       " [0, 1, 1, 1, 0, 15],\n",
       " [0, 1, 1, 1, 1, 10],\n",
       " [0, 1, 1, 1, 2, 5],\n",
       " [0, 1, 1, 1, 3, 0],\n",
       " [0, 1, 1, 2, 0, 5],\n",
       " [0, 1, 1, 2, 1, 0],\n",
       " [0, 1, 2, 0, 0, 0],\n",
       " [0, 2, 0, 0, 0, 0],\n",
       " [1, 0, 0, 0, 0, 0]]"
      ]
     },
     "execution_count": 6,
     "metadata": {},
     "output_type": "execute_result"
    }
   ],
   "source": [
    "combinations"
   ]
  },
  {
   "cell_type": "code",
   "execution_count": 7,
   "metadata": {},
   "outputs": [
    {
     "data": {
      "text/plain": [
       "293"
      ]
     },
     "execution_count": 7,
     "metadata": {},
     "output_type": "execute_result"
    }
   ],
   "source": [
    "len(combinations)"
   ]
  },
  {
   "cell_type": "code",
   "execution_count": 10,
   "metadata": {},
   "outputs": [],
   "source": [
    "#how many change can you get from a thounsand naira\n",
    "\n",
    "def nairaCombination(amount):\n",
    "    combinations = []\n",
    "    \n",
    "    for count_1000 in range(0, amount+1, 1000):\n",
    "        for count_500 in range(0, amount+1, 500):\n",
    "            for count_200 in range(0, amount+1, 200):\n",
    "                for count_100 in range(0, amount+1, 100):\n",
    "                    for count_50 in range(0, amount+1, 50):\n",
    "                        for count_10 in range(0, amount+1, 10):\n",
    "                            for count_5 in range(0, amount+1, 5):\n",
    "                                totalAmountSoFar = count_1000 + count_500 + count_200 + count_100 + count_50 + count_10 + count_5\n",
    "                                \n",
    "                                if totalAmountSoFar <= amount:\n",
    "                                    combinations.append([count_1000, count_500, count_200, count_100, count_50, count_10, \n",
    "                                                         count_5, amount - totalAmountSoFar])\n",
    "                                    \n",
    "    return combinations"
   ]
  },
  {
   "cell_type": "code",
   "execution_count": 11,
   "metadata": {},
   "outputs": [],
   "source": [
    "check = nairaCombination(1000)"
   ]
  },
  {
   "cell_type": "code",
   "execution_count": 12,
   "metadata": {},
   "outputs": [
    {
     "data": {
      "text/plain": [
       "400189"
      ]
     },
     "execution_count": 12,
     "metadata": {},
     "output_type": "execute_result"
    }
   ],
   "source": [
    "len(check)"
   ]
  },
  {
   "cell_type": "code",
   "execution_count": 14,
   "metadata": {},
   "outputs": [
    {
     "data": {
      "text/plain": [
       "159"
      ]
     },
     "execution_count": 14,
     "metadata": {},
     "output_type": "execute_result"
    }
   ],
   "source": [
    "len(nairaCombination(100))"
   ]
  },
  {
   "cell_type": "code",
   "execution_count": 16,
   "metadata": {},
   "outputs": [],
   "source": [
    "totals = range(200, 1000, 100)\n",
    "lengths = [len(nairaCombination(total)) for total in totals]"
   ]
  },
  {
   "cell_type": "code",
   "execution_count": 17,
   "metadata": {},
   "outputs": [
    {
     "data": {
      "text/plain": [
       "[<matplotlib.lines.Line2D at 0x28ec628e408>]"
      ]
     },
     "execution_count": 17,
     "metadata": {},
     "output_type": "execute_result"
    },
    {
     "data": {
      "image/png": "[encoded data removed]",
      "text/plain": [
       "<Figure size 432x288 with 1 Axes>"
      ]
     },
     "metadata": {
      "needs_background": "light"
     },
     "output_type": "display_data"
    }
   ],
   "source": [
    "plt.plot(totals, lengths)"
   ]
  },
  {
   "cell_type": "code",
   "execution_count": null,
   "metadata": {},
   "outputs": [],
   "source": []
  }
 ],
 "metadata": {
  "kernelspec": {
   "display_name": "Python 3",
   "language": "python",
   "name": "python3"
  },
  "language_info": {
   "codemirror_mode": {
    "name": "ipython",
    "version": 3
   },
   "file_extension": ".py",
   "mimetype": "text/x-python",
   "name": "python",
   "nbconvert_exporter": "python",
   "pygments_lexer": "ipython3",
   "version": "3.7.6"
  }
 },
 "nbformat": 4,
 "nbformat_minor": 4
}
